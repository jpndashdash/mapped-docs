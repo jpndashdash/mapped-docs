{
 "cells": [
  {
   "cell_type": "markdown",
   "metadata": {},
   "source": [
    "# Plotly Density Heatmap\n",
    "\n",
    "This example reviews plotting density heatmap from a GeoDataFrame using plotly."
   ]
  },
  {
   "cell_type": "code",
   "execution_count": 1,
   "metadata": {
    "ExecuteTime": {
     "end_time": "2020-04-19T15:37:36.798310Z",
     "start_time": "2020-04-19T15:37:36.794586Z"
    }
   },
   "outputs": [
    {
     "data": {
      "text/plain": [
       "('20.04.01', '0.7.0', '4.6.0')"
      ]
     },
     "execution_count": 1,
     "metadata": {},
     "output_type": "execute_result"
    }
   ],
   "source": [
    "import mapped\n",
    "import geopandas as gpd\n",
    "import plotly\n",
    "from plotly.graph_objects import Figure\n",
    "mapped.__version__, gpd.__version__, plotly.__version__"
   ]
  },
  {
   "cell_type": "markdown",
   "metadata": {},
   "source": [
    "First load some example point data."
   ]
  },
  {
   "cell_type": "code",
   "execution_count": 2,
   "metadata": {
    "ExecuteTime": {
     "end_time": "2020-04-19T00:02:42.803698Z",
     "start_time": "2020-04-19T00:02:42.775628Z"
    },
    "scrolled": true
   },
   "outputs": [
    {
     "data": {
      "text/html": [
       "<div>\n",
       "<style scoped>\n",
       "    .dataframe tbody tr th:only-of-type {\n",
       "        vertical-align: middle;\n",
       "    }\n",
       "\n",
       "    .dataframe tbody tr th {\n",
       "        vertical-align: top;\n",
       "    }\n",
       "\n",
       "    .dataframe thead th {\n",
       "        text-align: right;\n",
       "    }\n",
       "</style>\n",
       "<table border=\"1\" class=\"dataframe\">\n",
       "  <thead>\n",
       "    <tr style=\"text-align: right;\">\n",
       "      <th></th>\n",
       "      <th>number</th>\n",
       "      <th>letter</th>\n",
       "      <th>geometry</th>\n",
       "    </tr>\n",
       "  </thead>\n",
       "  <tbody>\n",
       "    <tr>\n",
       "      <th>1</th>\n",
       "      <td>73.522015</td>\n",
       "      <td>A</td>\n",
       "      <td>POINT (-9945192.638 5333669.463)</td>\n",
       "    </tr>\n",
       "    <tr>\n",
       "      <th>2</th>\n",
       "      <td>59.605820</td>\n",
       "      <td>A</td>\n",
       "      <td>POINT (-9952134.036 5321688.221)</td>\n",
       "    </tr>\n",
       "    <tr>\n",
       "      <th>3</th>\n",
       "      <td>52.676887</td>\n",
       "      <td>A</td>\n",
       "      <td>POINT (-9937860.167 5328515.553)</td>\n",
       "    </tr>\n",
       "    <tr>\n",
       "      <th>6</th>\n",
       "      <td>22.133990</td>\n",
       "      <td>B</td>\n",
       "      <td>POINT (-9948386.303 5310253.324)</td>\n",
       "    </tr>\n",
       "    <tr>\n",
       "      <th>7</th>\n",
       "      <td>34.937765</td>\n",
       "      <td>A</td>\n",
       "      <td>POINT (-9963868.554 5319452.429)</td>\n",
       "    </tr>\n",
       "  </tbody>\n",
       "</table>\n",
       "</div>"
      ],
      "text/plain": [
       "      number letter                          geometry\n",
       "1  73.522015      A  POINT (-9945192.638 5333669.463)\n",
       "2  59.605820      A  POINT (-9952134.036 5321688.221)\n",
       "3  52.676887      A  POINT (-9937860.167 5328515.553)\n",
       "6  22.133990      B  POINT (-9948386.303 5310253.324)\n",
       "7  34.937765      A  POINT (-9963868.554 5319452.429)"
      ]
     },
     "execution_count": 2,
     "metadata": {},
     "output_type": "execute_result"
    }
   ],
   "source": [
    "from mapped.example_data import mad_points\n",
    "points = mad_points()\n",
    "points.head()"
   ]
  },
  {
   "cell_type": "markdown",
   "metadata": {},
   "source": [
    "The heatmap generates a \n",
    "[Mapbox Density Heatmap](https://plot.ly/python/mapbox-density-heatmaps/),\n",
    "not a plain heatmap."
   ]
  },
  {
   "cell_type": "code",
   "execution_count": 3,
   "metadata": {
    "ExecuteTime": {
     "end_time": "2020-04-19T00:02:43.917385Z",
     "start_time": "2020-04-19T00:02:43.345025Z"
    }
   },
   "outputs": [
    {
     "data": {
      "application/vnd.jupyter.widget-view+json": {
       "model_id": "dc652cec0746433f9af4208c9f6efab4",
       "version_major": 2,
       "version_minor": 0
      },
      "text/plain": [
       "FigureWidget({\n",
       "    'data': [{'coloraxis': 'coloraxis',\n",
       "              'hovertemplate': '<b>%{hovertext}</b><br>…"
      ]
     },
     "metadata": {},
     "output_type": "display_data"
    }
   ],
   "source": [
    "points.plotly_heatmap(\n",
    "    'number', \n",
    "    radius=10, \n",
    "    mapbox_style='carto-positron', \n",
    ")"
   ]
  },
  {
   "cell_type": "raw",
   "metadata": {
    "raw_mimetype": "text/restructuredtext"
   },
   "source": [
    ".. currentmodule:: mapped\n",
    "\n",
    ".. automethod:: GeoDataFrame.plotly_heatmap"
   ]
  }
 ],
 "metadata": {
  "kernelspec": {
   "display_name": "Python 3",
   "language": "python",
   "name": "python3"
  },
  "language_info": {
   "codemirror_mode": {
    "name": "ipython",
    "version": 3
   },
   "file_extension": ".py",
   "mimetype": "text/x-python",
   "name": "python",
   "nbconvert_exporter": "python",
   "pygments_lexer": "ipython3",
   "version": "3.7.6"
  },
  "toc": {
   "base_numbering": 1,
   "nav_menu": {},
   "number_sections": true,
   "sideBar": true,
   "skip_h1_title": false,
   "title_cell": "Table of Contents",
   "title_sidebar": "Contents",
   "toc_cell": false,
   "toc_position": {},
   "toc_section_display": true,
   "toc_window_display": false
  },
  "widgets": {
   "application/vnd.jupyter.widget-state+json": {
    "state": {
     "dc652cec0746433f9af4208c9f6efab4": {
      "buffers": [
       {
        "data": "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",
        "encoding": "base64",
        "path": [
         "_data",
         0,
         "hovertext",
         "buffer"
        ]
       },
       {
        "data": "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",
        "encoding": "base64",
        "path": [
         "_data",
         0,
         "lat",
         "buffer"
        ]
       },
       {
        "data": "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",
        "encoding": "base64",
        "path": [
         "_data",
         0,
         "lon",
         "buffer"
        ]
       },
       {
        "data": "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",
        "encoding": "base64",
        "path": [
         "_data",
         0,
         "z",
         "buffer"
        ]
       }
      ],
      "model_module": "plotlywidget",
      "model_module_version": "4.6.0",
      "model_name": "FigureModel",
      "state": {
       "_config": {
        "plotlyServerURL": "https://plot.ly"
       },
       "_data": [
        {
         "coloraxis": "coloraxis",
         "hovertemplate": "<b>%{hovertext}</b><br><br>z=%{z}<br>lat=%{lat}<br>lon=%{lon}<extra></extra>",
         "hovertext": {
          "dtype": "float64",
          "shape": [
           239
          ]
         },
         "lat": {
          "dtype": "float64",
          "shape": [
           239
          ]
         },
         "lon": {
          "dtype": "float64",
          "shape": [
           239
          ]
         },
         "name": "",
         "radius": 10,
         "subplot": "mapbox",
         "type": "densitymapbox",
         "uid": "7353afc5-af6c-49bf-ad8a-7078d496114a",
         "z": {
          "dtype": "float64",
          "shape": [
           239
          ]
         }
        }
       ],
       "_dom_classes": [],
       "_js2py_layoutDelta": {},
       "_js2py_pointsCallback": {},
       "_js2py_relayout": {},
       "_js2py_restyle": {},
       "_js2py_traceDeltas": {},
       "_js2py_update": {},
       "_last_layout_edit_id": 1,
       "_last_trace_edit_id": 1,
       "_layout": {
        "coloraxis": {
         "colorbar": {
          "title": {
           "text": "z"
          }
         },
         "colorscale": [
          [
           0.0,
           "#0d0887"
          ],
          [
           0.1111111111111111,
           "#46039f"
          ],
          [
           0.2222222222222222,
           "#7201a8"
          ],
          [
           0.3333333333333333,
           "#9c179e"
          ],
          [
           0.4444444444444444,
           "#bd3786"
          ],
          [
           0.5555555555555556,
           "#d8576b"
          ],
          [
           0.6666666666666666,
           "#ed7953"
          ],
          [
           0.7777777777777778,
           "#fb9f3a"
          ],
          [
           0.8888888888888888,
           "#fdca26"
          ],
          [
           1.0,
           "#f0f921"
          ]
         ]
        },
        "legend": {
         "tracegroupgap": 0
        },
        "mapbox": {
         "center": {
          "lat": 43.0749011934638,
          "lon": -89.4120515482476
         },
         "domain": {
          "x": [
           0.0,
           1.0
          ],
          "y": [
           0.0,
           1.0
          ]
         },
         "style": "carto-positron",
         "zoom": 8.5
        },
        "margin": {
         "t": 60
        },
        "template": {
         "data": {
          "bar": [
           {
            "error_x": {
             "color": "#2a3f5f"
            },
            "error_y": {
             "color": "#2a3f5f"
            },
            "marker": {
             "line": {
              "color": "#E5ECF6",
              "width": 0.5
             }
            },
            "type": "bar"
           }
          ],
          "barpolar": [
           {
            "marker": {
             "line": {
              "color": "#E5ECF6",
              "width": 0.5
             }
            },
            "type": "barpolar"
           }
          ],
          "carpet": [
           {
            "aaxis": {
             "endlinecolor": "#2a3f5f",
             "gridcolor": "white",
             "linecolor": "white",
             "minorgridcolor": "white",
             "startlinecolor": "#2a3f5f"
            },
            "baxis": {
             "endlinecolor": "#2a3f5f",
             "gridcolor": "white",
             "linecolor": "white",
             "minorgridcolor": "white",
             "startlinecolor": "#2a3f5f"
            },
            "type": "carpet"
           }
          ],
          "choropleth": [
           {
            "colorbar": {
             "outlinewidth": 0,
             "ticks": ""
            },
            "type": "choropleth"
           }
          ],
          "contour": [
           {
            "colorbar": {
             "outlinewidth": 0,
             "ticks": ""
            },
            "colorscale": [
             [
              0.0,
              "#0d0887"
             ],
             [
              0.1111111111111111,
              "#46039f"
             ],
             [
              0.2222222222222222,
              "#7201a8"
             ],
             [
              0.3333333333333333,
              "#9c179e"
             ],
             [
              0.4444444444444444,
              "#bd3786"
             ],
             [
              0.5555555555555556,
              "#d8576b"
             ],
             [
              0.6666666666666666,
              "#ed7953"
             ],
             [
              0.7777777777777778,
              "#fb9f3a"
             ],
             [
              0.8888888888888888,
              "#fdca26"
             ],
             [
              1.0,
              "#f0f921"
             ]
            ],
            "type": "contour"
           }
          ],
          "contourcarpet": [
           {
            "colorbar": {
             "outlinewidth": 0,
             "ticks": ""
            },
            "type": "contourcarpet"
           }
          ],
          "heatmap": [
           {
            "colorbar": {
             "outlinewidth": 0,
             "ticks": ""
            },
            "colorscale": [
             [
              0.0,
              "#0d0887"
             ],
             [
              0.1111111111111111,
              "#46039f"
             ],
             [
              0.2222222222222222,
              "#7201a8"
             ],
             [
              0.3333333333333333,
              "#9c179e"
             ],
             [
              0.4444444444444444,
              "#bd3786"
             ],
             [
              0.5555555555555556,
              "#d8576b"
             ],
             [
              0.6666666666666666,
              "#ed7953"
             ],
             [
              0.7777777777777778,
              "#fb9f3a"
             ],
             [
              0.8888888888888888,
              "#fdca26"
             ],
             [
              1.0,
              "#f0f921"
             ]
            ],
            "type": "heatmap"
           }
          ],
          "heatmapgl": [
           {
            "colorbar": {
             "outlinewidth": 0,
             "ticks": ""
            },
            "colorscale": [
             [
              0.0,
              "#0d0887"
             ],
             [
              0.1111111111111111,
              "#46039f"
             ],
             [
              0.2222222222222222,
              "#7201a8"
             ],
             [
              0.3333333333333333,
              "#9c179e"
             ],
             [
              0.4444444444444444,
              "#bd3786"
             ],
             [
              0.5555555555555556,
              "#d8576b"
             ],
             [
              0.6666666666666666,
              "#ed7953"
             ],
             [
              0.7777777777777778,
              "#fb9f3a"
             ],
             [
              0.8888888888888888,
              "#fdca26"
             ],
             [
              1.0,
              "#f0f921"
             ]
            ],
            "type": "heatmapgl"
           }
          ],
          "histogram": [
           {
            "marker": {
             "colorbar": {
              "outlinewidth": 0,
              "ticks": ""
             }
            },
            "type": "histogram"
           }
          ],
          "histogram2d": [
           {
            "colorbar": {
             "outlinewidth": 0,
             "ticks": ""
            },
            "colorscale": [
             [
              0.0,
              "#0d0887"
             ],
             [
              0.1111111111111111,
              "#46039f"
             ],
             [
              0.2222222222222222,
              "#7201a8"
             ],
             [
              0.3333333333333333,
              "#9c179e"
             ],
             [
              0.4444444444444444,
              "#bd3786"
             ],
             [
              0.5555555555555556,
              "#d8576b"
             ],
             [
              0.6666666666666666,
              "#ed7953"
             ],
             [
              0.7777777777777778,
              "#fb9f3a"
             ],
             [
              0.8888888888888888,
              "#fdca26"
             ],
             [
              1.0,
              "#f0f921"
             ]
            ],
            "type": "histogram2d"
           }
          ],
          "histogram2dcontour": [
           {
            "colorbar": {
             "outlinewidth": 0,
             "ticks": ""
            },
            "colorscale": [
             [
              0.0,
              "#0d0887"
             ],
             [
              0.1111111111111111,
              "#46039f"
             ],
             [
              0.2222222222222222,
              "#7201a8"
             ],
             [
              0.3333333333333333,
              "#9c179e"
             ],
             [
              0.4444444444444444,
              "#bd3786"
             ],
             [
              0.5555555555555556,
              "#d8576b"
             ],
             [
              0.6666666666666666,
              "#ed7953"
             ],
             [
              0.7777777777777778,
              "#fb9f3a"
             ],
             [
              0.8888888888888888,
              "#fdca26"
             ],
             [
              1.0,
              "#f0f921"
             ]
            ],
            "type": "histogram2dcontour"
           }
          ],
          "mesh3d": [
           {
            "colorbar": {
             "outlinewidth": 0,
             "ticks": ""
            },
            "type": "mesh3d"
           }
          ],
          "parcoords": [
           {
            "line": {
             "colorbar": {
              "outlinewidth": 0,
              "ticks": ""
             }
            },
            "type": "parcoords"
           }
          ],
          "pie": [
           {
            "automargin": true,
            "type": "pie"
           }
          ],
          "scatter": [
           {
            "marker": {
             "colorbar": {
              "outlinewidth": 0,
              "ticks": ""
             }
            },
            "type": "scatter"
           }
          ],
          "scatter3d": [
           {
            "line": {
             "colorbar": {
              "outlinewidth": 0,
              "ticks": ""
             }
            },
            "marker": {
             "colorbar": {
              "outlinewidth": 0,
              "ticks": ""
             }
            },
            "type": "scatter3d"
           }
          ],
          "scattercarpet": [
           {
            "marker": {
             "colorbar": {
              "outlinewidth": 0,
              "ticks": ""
             }
            },
            "type": "scattercarpet"
           }
          ],
          "scattergeo": [
           {
            "marker": {
             "colorbar": {
              "outlinewidth": 0,
              "ticks": ""
             }
            },
            "type": "scattergeo"
           }
          ],
          "scattergl": [
           {
            "marker": {
             "colorbar": {
              "outlinewidth": 0,
              "ticks": ""
             }
            },
            "type": "scattergl"
           }
          ],
          "scattermapbox": [
           {
            "marker": {
             "colorbar": {
              "outlinewidth": 0,
              "ticks": ""
             }
            },
            "type": "scattermapbox"
           }
          ],
          "scatterpolar": [
           {
            "marker": {
             "colorbar": {
              "outlinewidth": 0,
              "ticks": ""
             }
            },
            "type": "scatterpolar"
           }
          ],
          "scatterpolargl": [
           {
            "marker": {
             "colorbar": {
              "outlinewidth": 0,
              "ticks": ""
             }
            },
            "type": "scatterpolargl"
           }
          ],
          "scatterternary": [
           {
            "marker": {
             "colorbar": {
              "outlinewidth": 0,
              "ticks": ""
             }
            },
            "type": "scatterternary"
           }
          ],
          "surface": [
           {
            "colorbar": {
             "outlinewidth": 0,
             "ticks": ""
            },
            "colorscale": [
             [
              0.0,
              "#0d0887"
             ],
             [
              0.1111111111111111,
              "#46039f"
             ],
             [
              0.2222222222222222,
              "#7201a8"
             ],
             [
              0.3333333333333333,
              "#9c179e"
             ],
             [
              0.4444444444444444,
              "#bd3786"
             ],
             [
              0.5555555555555556,
              "#d8576b"
             ],
             [
              0.6666666666666666,
              "#ed7953"
             ],
             [
              0.7777777777777778,
              "#fb9f3a"
             ],
             [
              0.8888888888888888,
              "#fdca26"
             ],
             [
              1.0,
              "#f0f921"
             ]
            ],
            "type": "surface"
           }
          ],
          "table": [
           {
            "cells": {
             "fill": {
              "color": "#EBF0F8"
             },
             "line": {
              "color": "white"
             }
            },
            "header": {
             "fill": {
              "color": "#C8D4E3"
             },
             "line": {
              "color": "white"
             }
            },
            "type": "table"
           }
          ]
         },
         "layout": {
          "annotationdefaults": {
           "arrowcolor": "#2a3f5f",
           "arrowhead": 0,
           "arrowwidth": 1
          },
          "coloraxis": {
           "colorbar": {
            "outlinewidth": 0,
            "ticks": ""
           }
          },
          "colorscale": {
           "diverging": [
            [
             0,
             "#8e0152"
            ],
            [
             0.1,
             "#c51b7d"
            ],
            [
             0.2,
             "#de77ae"
            ],
            [
             0.3,
             "#f1b6da"
            ],
            [
             0.4,
             "#fde0ef"
            ],
            [
             0.5,
             "#f7f7f7"
            ],
            [
             0.6,
             "#e6f5d0"
            ],
            [
             0.7,
             "#b8e186"
            ],
            [
             0.8,
             "#7fbc41"
            ],
            [
             0.9,
             "#4d9221"
            ],
            [
             1,
             "#276419"
            ]
           ],
           "sequential": [
            [
             0.0,
             "#0d0887"
            ],
            [
             0.1111111111111111,
             "#46039f"
            ],
            [
             0.2222222222222222,
             "#7201a8"
            ],
            [
             0.3333333333333333,
             "#9c179e"
            ],
            [
             0.4444444444444444,
             "#bd3786"
            ],
            [
             0.5555555555555556,
             "#d8576b"
            ],
            [
             0.6666666666666666,
             "#ed7953"
            ],
            [
             0.7777777777777778,
             "#fb9f3a"
            ],
            [
             0.8888888888888888,
             "#fdca26"
            ],
            [
             1.0,
             "#f0f921"
            ]
           ],
           "sequentialminus": [
            [
             0.0,
             "#0d0887"
            ],
            [
             0.1111111111111111,
             "#46039f"
            ],
            [
             0.2222222222222222,
             "#7201a8"
            ],
            [
             0.3333333333333333,
             "#9c179e"
            ],
            [
             0.4444444444444444,
             "#bd3786"
            ],
            [
             0.5555555555555556,
             "#d8576b"
            ],
            [
             0.6666666666666666,
             "#ed7953"
            ],
            [
             0.7777777777777778,
             "#fb9f3a"
            ],
            [
             0.8888888888888888,
             "#fdca26"
            ],
            [
             1.0,
             "#f0f921"
            ]
           ]
          },
          "colorway": [
           "#636efa",
           "#EF553B",
           "#00cc96",
           "#ab63fa",
           "#FFA15A",
           "#19d3f3",
           "#FF6692",
           "#B6E880",
           "#FF97FF",
           "#FECB52"
          ],
          "font": {
           "color": "#2a3f5f"
          },
          "geo": {
           "bgcolor": "white",
           "lakecolor": "white",
           "landcolor": "#E5ECF6",
           "showlakes": true,
           "showland": true,
           "subunitcolor": "white"
          },
          "hoverlabel": {
           "align": "left"
          },
          "hovermode": "closest",
          "mapbox": {
           "style": "light"
          },
          "paper_bgcolor": "white",
          "plot_bgcolor": "#E5ECF6",
          "polar": {
           "angularaxis": {
            "gridcolor": "white",
            "linecolor": "white",
            "ticks": ""
           },
           "bgcolor": "#E5ECF6",
           "radialaxis": {
            "gridcolor": "white",
            "linecolor": "white",
            "ticks": ""
           }
          },
          "scene": {
           "xaxis": {
            "backgroundcolor": "#E5ECF6",
            "gridcolor": "white",
            "gridwidth": 2,
            "linecolor": "white",
            "showbackground": true,
            "ticks": "",
            "zerolinecolor": "white"
           },
           "yaxis": {
            "backgroundcolor": "#E5ECF6",
            "gridcolor": "white",
            "gridwidth": 2,
            "linecolor": "white",
            "showbackground": true,
            "ticks": "",
            "zerolinecolor": "white"
           },
           "zaxis": {
            "backgroundcolor": "#E5ECF6",
            "gridcolor": "white",
            "gridwidth": 2,
            "linecolor": "white",
            "showbackground": true,
            "ticks": "",
            "zerolinecolor": "white"
           }
          },
          "shapedefaults": {
           "line": {
            "color": "#2a3f5f"
           }
          },
          "ternary": {
           "aaxis": {
            "gridcolor": "white",
            "linecolor": "white",
            "ticks": ""
           },
           "baxis": {
            "gridcolor": "white",
            "linecolor": "white",
            "ticks": ""
           },
           "bgcolor": "#E5ECF6",
           "caxis": {
            "gridcolor": "white",
            "linecolor": "white",
            "ticks": ""
           }
          },
          "title": {
           "x": 0.05
          },
          "xaxis": {
           "automargin": true,
           "gridcolor": "white",
           "linecolor": "white",
           "ticks": "",
           "title": {
            "standoff": 15
           },
           "zerolinecolor": "white",
           "zerolinewidth": 2
          },
          "yaxis": {
           "automargin": true,
           "gridcolor": "white",
           "linecolor": "white",
           "ticks": "",
           "title": {
            "standoff": 15
           },
           "zerolinecolor": "white",
           "zerolinewidth": 2
          }
         }
        }
       },
       "_model_module": "plotlywidget",
       "_model_module_version": "4.6.0",
       "_model_name": "FigureModel",
       "_py2js_addTraces": {},
       "_py2js_animate": {},
       "_py2js_deleteTraces": {},
       "_py2js_moveTraces": {},
       "_py2js_relayout": {},
       "_py2js_removeLayoutProps": {},
       "_py2js_removeTraceProps": {},
       "_py2js_restyle": {},
       "_py2js_update": null,
       "_view_count": 0,
       "_view_module": "plotlywidget",
       "_view_module_version": "4.6.0",
       "_view_name": "FigureView"
      }
     }
    },
    "version_major": 2,
    "version_minor": 0
   }
  }
 },
 "nbformat": 4,
 "nbformat_minor": 4
}
